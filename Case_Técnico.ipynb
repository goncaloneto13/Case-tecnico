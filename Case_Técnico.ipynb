{
  "nbformat": 4,
  "nbformat_minor": 0,
  "metadata": {
    "colab": {
      "name": "Case Técnico.ipynb",
      "provenance": [],
      "collapsed_sections": [],
      "include_colab_link": true
    },
    "kernelspec": {
      "name": "python3",
      "display_name": "Python 3"
    },
    "language_info": {
      "name": "python"
    }
  },
  "cells": [
    {
      "cell_type": "markdown",
      "metadata": {
        "id": "view-in-github",
        "colab_type": "text"
      },
      "source": [
        "<a href=\"https://colab.research.google.com/github/goncaloneto13/case-tecnico/blob/main/Case_T%C3%A9cnico.ipynb\" target=\"_parent\"><img src=\"https://colab.research.google.com/assets/colab-badge.svg\" alt=\"Open In Colab\"/></a>"
      ]
    },
    {
      "cell_type": "markdown",
      "source": [
        "#Case Técnico\n",
        "\n",
        "1. Monta o Drive e instala a biblioteca gspread:\n",
        "\n"
      ],
      "metadata": {
        "id": "SQv5kPhVP6nZ"
      }
    },
    {
      "cell_type": "code",
      "source": [
        "!pip install  --upgrade gspread\n",
        "\n",
        "from google.colab import drive\n",
        "drive.mount('/content/drive')\n"
      ],
      "metadata": {
        "id": "JH_ILwfQds3t",
        "colab": {
          "base_uri": "https://localhost:8080/"
        },
        "outputId": "b149952a-26b4-4f49-a4f9-9051b06710c2"
      },
      "execution_count": null,
      "outputs": [
        {
          "output_type": "stream",
          "name": "stdout",
          "text": [
            "Looking in indexes: https://pypi.org/simple, https://us-python.pkg.dev/colab-wheels/public/simple/\n",
            "Requirement already satisfied: gspread in /usr/local/lib/python3.7/dist-packages (5.4.0)\n",
            "Requirement already satisfied: google-auth-oauthlib>=0.4.1 in /usr/local/lib/python3.7/dist-packages (from gspread) (0.4.6)\n",
            "Requirement already satisfied: google-auth>=1.12.0 in /usr/local/lib/python3.7/dist-packages (from gspread) (1.35.0)\n",
            "Requirement already satisfied: cachetools<5.0,>=2.0.0 in /usr/local/lib/python3.7/dist-packages (from google-auth>=1.12.0->gspread) (4.2.4)\n",
            "Requirement already satisfied: six>=1.9.0 in /usr/local/lib/python3.7/dist-packages (from google-auth>=1.12.0->gspread) (1.15.0)\n",
            "Requirement already satisfied: pyasn1-modules>=0.2.1 in /usr/local/lib/python3.7/dist-packages (from google-auth>=1.12.0->gspread) (0.2.8)\n",
            "Requirement already satisfied: rsa<5,>=3.1.4 in /usr/local/lib/python3.7/dist-packages (from google-auth>=1.12.0->gspread) (4.8)\n",
            "Requirement already satisfied: setuptools>=40.3.0 in /usr/local/lib/python3.7/dist-packages (from google-auth>=1.12.0->gspread) (57.4.0)\n",
            "Requirement already satisfied: requests-oauthlib>=0.7.0 in /usr/local/lib/python3.7/dist-packages (from google-auth-oauthlib>=0.4.1->gspread) (1.3.1)\n",
            "Requirement already satisfied: pyasn1<0.5.0,>=0.4.6 in /usr/local/lib/python3.7/dist-packages (from pyasn1-modules>=0.2.1->google-auth>=1.12.0->gspread) (0.4.8)\n",
            "Requirement already satisfied: oauthlib>=3.0.0 in /usr/local/lib/python3.7/dist-packages (from requests-oauthlib>=0.7.0->google-auth-oauthlib>=0.4.1->gspread) (3.2.0)\n",
            "Requirement already satisfied: requests>=2.0.0 in /usr/local/lib/python3.7/dist-packages (from requests-oauthlib>=0.7.0->google-auth-oauthlib>=0.4.1->gspread) (2.23.0)\n",
            "Requirement already satisfied: idna<3,>=2.5 in /usr/local/lib/python3.7/dist-packages (from requests>=2.0.0->requests-oauthlib>=0.7.0->google-auth-oauthlib>=0.4.1->gspread) (2.10)\n",
            "Requirement already satisfied: urllib3!=1.25.0,!=1.25.1,<1.26,>=1.21.1 in /usr/local/lib/python3.7/dist-packages (from requests>=2.0.0->requests-oauthlib>=0.7.0->google-auth-oauthlib>=0.4.1->gspread) (1.24.3)\n",
            "Requirement already satisfied: chardet<4,>=3.0.2 in /usr/local/lib/python3.7/dist-packages (from requests>=2.0.0->requests-oauthlib>=0.7.0->google-auth-oauthlib>=0.4.1->gspread) (3.0.4)\n",
            "Requirement already satisfied: certifi>=2017.4.17 in /usr/local/lib/python3.7/dist-packages (from requests>=2.0.0->requests-oauthlib>=0.7.0->google-auth-oauthlib>=0.4.1->gspread) (2022.5.18.1)\n",
            "Drive already mounted at /content/drive; to attempt to forcibly remount, call drive.mount(\"/content/drive\", force_remount=True).\n"
          ]
        }
      ]
    },
    {
      "cell_type": "markdown",
      "source": [
        "2. Abre o arquivo JSON, que teve um atalho criado no Meu Drive,  e transforma os dados em um DataFrame:\n"
      ],
      "metadata": {
        "id": "o78fnWyJQY2-"
      }
    },
    {
      "cell_type": "code",
      "source": [
        "import json\n",
        "from pandas import json_normalize\n",
        "\n",
        "with open('/content/drive/MyDrive/data-celi_9llyHC-1-dTorBmd.json',encoding='utf-8') as meu_json:\n",
        "    data = json.load(meu_json)\n",
        "\n",
        "df = json_normalize(data)\n",
        "df.head()\n"
      ],
      "metadata": {
        "colab": {
          "base_uri": "https://localhost:8080/",
          "height": 250
        },
        "id": "YAgYYtTXd7JE",
        "outputId": "dbb44854-8412-468f-cb14-4811a21837b6"
      },
      "execution_count": null,
      "outputs": [
        {
          "output_type": "execute_result",
          "data": {
            "text/plain": [
              "             name           phone                           email  \\\n",
              "0    Jerry Snyder  1-963-621-3676  molestie.pharetra.nibh@aol.com   \n",
              "1   Evelyn Cortez  (438) 713-1664          eget.ipsum@outlook.org   \n",
              "2     Keane Gross  1-681-418-7743       ridiculus.mus@hotmail.net   \n",
              "3  Illana Collins  (356) 124-0101               eu@protonmail.com   \n",
              "4    Hedley Mejia  1-267-247-1174                       a@aol.org   \n",
              "\n",
              "                          address postalZip                      region  \\\n",
              "0              631-6614 Quis Road   3715 CO                      Ankara   \n",
              "1              283-4910 Quis Road     69845         Zaporizhzhia oblast   \n",
              "2    P.O. Box 957, 1870 Donec St.     12528            Central Sulawesi   \n",
              "3          978-5629 Semper Street     76135                       Maule   \n",
              "4  P.O. Box 461, 9908 Luctus Road   3543 LM  Provence-Alpes-Côte d'Azur   \n",
              "\n",
              "  country  list  numberrange currency  \n",
              "0  France    11           10   $42.23  \n",
              "1  Sweden    13            5   $62.78  \n",
              "2  Sweden    11           10   $36.01  \n",
              "3  Sweden    13            5   $37.14  \n",
              "4  Canada     5            4   $10.49  "
            ],
            "text/html": [
              "\n",
              "  <div id=\"df-13a97133-9c23-4793-a832-c79ca20a0026\">\n",
              "    <div class=\"colab-df-container\">\n",
              "      <div>\n",
              "<style scoped>\n",
              "    .dataframe tbody tr th:only-of-type {\n",
              "        vertical-align: middle;\n",
              "    }\n",
              "\n",
              "    .dataframe tbody tr th {\n",
              "        vertical-align: top;\n",
              "    }\n",
              "\n",
              "    .dataframe thead th {\n",
              "        text-align: right;\n",
              "    }\n",
              "</style>\n",
              "<table border=\"1\" class=\"dataframe\">\n",
              "  <thead>\n",
              "    <tr style=\"text-align: right;\">\n",
              "      <th></th>\n",
              "      <th>name</th>\n",
              "      <th>phone</th>\n",
              "      <th>email</th>\n",
              "      <th>address</th>\n",
              "      <th>postalZip</th>\n",
              "      <th>region</th>\n",
              "      <th>country</th>\n",
              "      <th>list</th>\n",
              "      <th>numberrange</th>\n",
              "      <th>currency</th>\n",
              "    </tr>\n",
              "  </thead>\n",
              "  <tbody>\n",
              "    <tr>\n",
              "      <th>0</th>\n",
              "      <td>Jerry Snyder</td>\n",
              "      <td>1-963-621-3676</td>\n",
              "      <td>molestie.pharetra.nibh@aol.com</td>\n",
              "      <td>631-6614 Quis Road</td>\n",
              "      <td>3715 CO</td>\n",
              "      <td>Ankara</td>\n",
              "      <td>France</td>\n",
              "      <td>11</td>\n",
              "      <td>10</td>\n",
              "      <td>$42.23</td>\n",
              "    </tr>\n",
              "    <tr>\n",
              "      <th>1</th>\n",
              "      <td>Evelyn Cortez</td>\n",
              "      <td>(438) 713-1664</td>\n",
              "      <td>eget.ipsum@outlook.org</td>\n",
              "      <td>283-4910 Quis Road</td>\n",
              "      <td>69845</td>\n",
              "      <td>Zaporizhzhia oblast</td>\n",
              "      <td>Sweden</td>\n",
              "      <td>13</td>\n",
              "      <td>5</td>\n",
              "      <td>$62.78</td>\n",
              "    </tr>\n",
              "    <tr>\n",
              "      <th>2</th>\n",
              "      <td>Keane Gross</td>\n",
              "      <td>1-681-418-7743</td>\n",
              "      <td>ridiculus.mus@hotmail.net</td>\n",
              "      <td>P.O. Box 957, 1870 Donec St.</td>\n",
              "      <td>12528</td>\n",
              "      <td>Central Sulawesi</td>\n",
              "      <td>Sweden</td>\n",
              "      <td>11</td>\n",
              "      <td>10</td>\n",
              "      <td>$36.01</td>\n",
              "    </tr>\n",
              "    <tr>\n",
              "      <th>3</th>\n",
              "      <td>Illana Collins</td>\n",
              "      <td>(356) 124-0101</td>\n",
              "      <td>eu@protonmail.com</td>\n",
              "      <td>978-5629 Semper Street</td>\n",
              "      <td>76135</td>\n",
              "      <td>Maule</td>\n",
              "      <td>Sweden</td>\n",
              "      <td>13</td>\n",
              "      <td>5</td>\n",
              "      <td>$37.14</td>\n",
              "    </tr>\n",
              "    <tr>\n",
              "      <th>4</th>\n",
              "      <td>Hedley Mejia</td>\n",
              "      <td>1-267-247-1174</td>\n",
              "      <td>a@aol.org</td>\n",
              "      <td>P.O. Box 461, 9908 Luctus Road</td>\n",
              "      <td>3543 LM</td>\n",
              "      <td>Provence-Alpes-Côte d'Azur</td>\n",
              "      <td>Canada</td>\n",
              "      <td>5</td>\n",
              "      <td>4</td>\n",
              "      <td>$10.49</td>\n",
              "    </tr>\n",
              "  </tbody>\n",
              "</table>\n",
              "</div>\n",
              "      <button class=\"colab-df-convert\" onclick=\"convertToInteractive('df-13a97133-9c23-4793-a832-c79ca20a0026')\"\n",
              "              title=\"Convert this dataframe to an interactive table.\"\n",
              "              style=\"display:none;\">\n",
              "        \n",
              "  <svg xmlns=\"http://www.w3.org/2000/svg\" height=\"24px\"viewBox=\"0 0 24 24\"\n",
              "       width=\"24px\">\n",
              "    <path d=\"M0 0h24v24H0V0z\" fill=\"none\"/>\n",
              "    <path d=\"M18.56 5.44l.94 2.06.94-2.06 2.06-.94-2.06-.94-.94-2.06-.94 2.06-2.06.94zm-11 1L8.5 8.5l.94-2.06 2.06-.94-2.06-.94L8.5 2.5l-.94 2.06-2.06.94zm10 10l.94 2.06.94-2.06 2.06-.94-2.06-.94-.94-2.06-.94 2.06-2.06.94z\"/><path d=\"M17.41 7.96l-1.37-1.37c-.4-.4-.92-.59-1.43-.59-.52 0-1.04.2-1.43.59L10.3 9.45l-7.72 7.72c-.78.78-.78 2.05 0 2.83L4 21.41c.39.39.9.59 1.41.59.51 0 1.02-.2 1.41-.59l7.78-7.78 2.81-2.81c.8-.78.8-2.07 0-2.86zM5.41 20L4 18.59l7.72-7.72 1.47 1.35L5.41 20z\"/>\n",
              "  </svg>\n",
              "      </button>\n",
              "      \n",
              "  <style>\n",
              "    .colab-df-container {\n",
              "      display:flex;\n",
              "      flex-wrap:wrap;\n",
              "      gap: 12px;\n",
              "    }\n",
              "\n",
              "    .colab-df-convert {\n",
              "      background-color: #E8F0FE;\n",
              "      border: none;\n",
              "      border-radius: 50%;\n",
              "      cursor: pointer;\n",
              "      display: none;\n",
              "      fill: #1967D2;\n",
              "      height: 32px;\n",
              "      padding: 0 0 0 0;\n",
              "      width: 32px;\n",
              "    }\n",
              "\n",
              "    .colab-df-convert:hover {\n",
              "      background-color: #E2EBFA;\n",
              "      box-shadow: 0px 1px 2px rgba(60, 64, 67, 0.3), 0px 1px 3px 1px rgba(60, 64, 67, 0.15);\n",
              "      fill: #174EA6;\n",
              "    }\n",
              "\n",
              "    [theme=dark] .colab-df-convert {\n",
              "      background-color: #3B4455;\n",
              "      fill: #D2E3FC;\n",
              "    }\n",
              "\n",
              "    [theme=dark] .colab-df-convert:hover {\n",
              "      background-color: #434B5C;\n",
              "      box-shadow: 0px 1px 3px 1px rgba(0, 0, 0, 0.15);\n",
              "      filter: drop-shadow(0px 1px 2px rgba(0, 0, 0, 0.3));\n",
              "      fill: #FFFFFF;\n",
              "    }\n",
              "  </style>\n",
              "\n",
              "      <script>\n",
              "        const buttonEl =\n",
              "          document.querySelector('#df-13a97133-9c23-4793-a832-c79ca20a0026 button.colab-df-convert');\n",
              "        buttonEl.style.display =\n",
              "          google.colab.kernel.accessAllowed ? 'block' : 'none';\n",
              "\n",
              "        async function convertToInteractive(key) {\n",
              "          const element = document.querySelector('#df-13a97133-9c23-4793-a832-c79ca20a0026');\n",
              "          const dataTable =\n",
              "            await google.colab.kernel.invokeFunction('convertToInteractive',\n",
              "                                                     [key], {});\n",
              "          if (!dataTable) return;\n",
              "\n",
              "          const docLinkHtml = 'Like what you see? Visit the ' +\n",
              "            '<a target=\"_blank\" href=https://colab.research.google.com/notebooks/data_table.ipynb>data table notebook</a>'\n",
              "            + ' to learn more about interactive tables.';\n",
              "          element.innerHTML = '';\n",
              "          dataTable['output_type'] = 'display_data';\n",
              "          await google.colab.output.renderOutput(dataTable, element);\n",
              "          const docLink = document.createElement('div');\n",
              "          docLink.innerHTML = docLinkHtml;\n",
              "          element.appendChild(docLink);\n",
              "        }\n",
              "      </script>\n",
              "    </div>\n",
              "  </div>\n",
              "  "
            ]
          },
          "metadata": {},
          "execution_count": 24
        }
      ]
    },
    {
      "cell_type": "markdown",
      "source": [
        "3. Atualiza a planilha já criada com o DataFrame:\n"
      ],
      "metadata": {
        "id": "bGouwkltQgdU"
      }
    },
    {
      "cell_type": "code",
      "source": [
        "from gspread import worksheet\n",
        "from google.colab import auth\n",
        "auth.authenticate_user()\n",
        "\n",
        "import gspread\n",
        "from google.auth import default\n",
        "creds, _ = default()\n",
        "\n",
        "gc = gspread.authorize(creds)\n",
        "spreasheet = gc.open_by_url('https://docs.google.com/spreadsheets/d/1Dw-ykC5RxEHtg7XY-XG2kHMwJTlLVl5gM3H9T6BcASc/edit?usp=sharing')\n",
        "\n",
        "users = spreasheet.sheet1\n",
        "users.update([df.columns.values.tolist()] + df.values.tolist())\n"
      ],
      "metadata": {
        "colab": {
          "base_uri": "https://localhost:8080/"
        },
        "id": "xUQYsDY6m4Wd",
        "outputId": "ef88c65e-8600-4537-89f4-ed08dd4ef81e"
      },
      "execution_count": null,
      "outputs": [
        {
          "output_type": "execute_result",
          "data": {
            "text/plain": [
              "{'spreadsheetId': '1Dw-ykC5RxEHtg7XY-XG2kHMwJTlLVl5gM3H9T6BcASc',\n",
              " 'updatedCells': 5010,\n",
              " 'updatedColumns': 10,\n",
              " 'updatedRange': 'Users!A1:J501',\n",
              " 'updatedRows': 501}"
            ]
          },
          "metadata": {},
          "execution_count": 25
        }
      ]
    },
    {
      "cell_type": "markdown",
      "source": [
        "\n",
        "Link da Planilha: https://docs.google.com/spreadsheets/d/1Dw-ykC5RxEHtg7XY-XG2kHMwJTlLVl5gM3H9T6BcASc/edit?usp=sharing"
      ],
      "metadata": {
        "id": "D_toz5glvZKZ"
      }
    }
  ]
}